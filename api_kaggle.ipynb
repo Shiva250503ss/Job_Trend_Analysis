{
 "cells": [
  {
   "cell_type": "code",
   "execution_count": 1,
   "metadata": {},
   "outputs": [
    {
     "name": "stdout",
     "output_type": "stream",
     "text": [
      "        1 file(s) copied.\n"
     ]
    }
   ],
   "source": [
    "copy C:\\Users\\shiva\\OneDrive\\Documents\\Github\\Job_Trend_Analysis\\kaggle.json C:\\Users\\shiva\\.kaggle\\kaggle.json\n"
   ]
  },
  {
   "cell_type": "code",
   "execution_count": 2,
   "metadata": {},
   "outputs": [
    {
     "name": "stderr",
     "output_type": "stream",
     "text": [
      "'ls' is not recognized as an internal or external command,\n",
      "operable program or batch file.\n"
     ]
    }
   ],
   "source": [
    "!cd \\Users\\shiva\\.kaggle\\ && ls"
   ]
  },
  {
   "cell_type": "code",
   "execution_count": 3,
   "metadata": {},
   "outputs": [
    {
     "name": "stdout",
     "output_type": "stream",
     "text": [
      " Volume in drive C is Windows \n",
      " Volume Serial Number is 30A0-01DB\n",
      "\n",
      " Directory of C:\\Users\\shiva\\.kaggle\n",
      "\n",
      "01/31/2025  09:49 PM    <DIR>          .\n",
      "12/13/2024  11:07 AM    <DIR>          ..\n",
      "02/01/2025  07:01 PM                76 kaggle.json\n",
      "               1 File(s)             76 bytes\n",
      "               2 Dir(s)  829,340,700,672 bytes free\n"
     ]
    }
   ],
   "source": [
    "!cd C:\\Users\\shiva\\.kaggle\\ && dir\n"
   ]
  },
  {
   "cell_type": "code",
   "execution_count": 4,
   "metadata": {},
   "outputs": [
    {
     "name": "stdout",
     "output_type": "stream",
     "text": [
      "ref                                                   title                              size  lastUpdated          downloadCount  voteCount  usabilityRating  \n",
      "----------------------------------------------------  ---------------------------------  ----  -------------------  -------------  ---------  ---------------  \n",
      "fahadrehman07/data-science-jobs-and-salary-glassdoor  Data Science Jobs & Salaries 2024   2MB  2024-04-27 17:43:21           2181         91  1.0              \n"
     ]
    }
   ],
   "source": [
    "!kaggle datasets list -s \"fahadrehman07/data-science-jobs-and-salary-glassdoor\"\n"
   ]
  },
  {
   "cell_type": "code",
   "execution_count": 5,
   "metadata": {},
   "outputs": [
    {
     "name": "stdout",
     "output_type": "stream",
     "text": [
      "Dataset URL: https://www.kaggle.com/datasets/fahadrehman07/data-science-jobs-and-salary-glassdoor\n",
      "License(s): CC0-1.0\n",
      "Downloading data-science-jobs-and-salary-glassdoor.zip to c:\\Users\\shiva\\OneDrive\\Documents\\Github\\Job_Trend_Analysis\n",
      "\n"
     ]
    },
    {
     "name": "stderr",
     "output_type": "stream",
     "text": [
      "\n",
      "  0%|          | 0.00/2.22M [00:00<?, ?B/s]\n",
      " 45%|████▍     | 1.00M/2.22M [00:00<00:00, 7.44MB/s]\n",
      "100%|██████████| 2.22M/2.22M [00:00<00:00, 13.1MB/s]\n"
     ]
    }
   ],
   "source": [
    "! kaggle datasets download -d fahadrehman07/data-science-jobs-and-salary-glassdoor\n"
   ]
  },
  {
   "cell_type": "code",
   "execution_count": 7,
   "metadata": {},
   "outputs": [
    {
     "name": "stdout",
     "output_type": "stream",
     "text": [
      "Files extracted to C:\\Users\\shiva\\OneDrive\\Documents\\Github\\Job_Trend_Analysis\\datasets\n"
     ]
    }
   ],
   "source": [
    "import zipfile\n",
    "import os\n",
    "\n",
    "def extract_zip(input_zip, output_dir):\n",
    "\n",
    "    os.makedirs(output_dir, exist_ok=True)\n",
    "    \n",
    "    with zipfile.ZipFile(input_zip, 'r') as zip_ref:\n",
    "        zip_ref.extractall(output_dir)\n",
    "        print(f\"Files extracted to {output_dir}\")\n",
    "\n",
    "zip_file_path = 'C:\\\\Users\\\\shiva\\\\OneDrive\\\\Documents\\\\Github\\\\Job_Trend_Analysis\\\\data-science-jobs-and-salary-glassdoor.zip'\n",
    "output_directory = 'C:\\\\Users\\\\shiva\\\\OneDrive\\\\Documents\\\\Github\\\\Job_Trend_Analysis\\\\datasets'\n",
    "\n",
    "extract_zip(zip_file_path, output_directory)\n"
   ]
  },
  {
   "cell_type": "code",
   "execution_count": null,
   "metadata": {},
   "outputs": [],
   "source": []
  }
 ],
 "metadata": {
  "kernelspec": {
   "display_name": "base",
   "language": "python",
   "name": "python3"
  },
  "language_info": {
   "codemirror_mode": {
    "name": "ipython",
    "version": 3
   },
   "file_extension": ".py",
   "mimetype": "text/x-python",
   "name": "python",
   "nbconvert_exporter": "python",
   "pygments_lexer": "ipython3",
   "version": "3.12.4"
  }
 },
 "nbformat": 4,
 "nbformat_minor": 2
}
